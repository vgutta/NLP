{
 "cells": [
  {
   "cell_type": "code",
   "execution_count": 37,
   "metadata": {},
   "outputs": [],
   "source": [
    "import nltk\n",
    "# may need to run nltk.download() the first time"
   ]
  },
  {
   "cell_type": "code",
   "execution_count": 38,
   "metadata": {
    "collapsed": true
   },
   "outputs": [],
   "source": [
    "from nltk.tokenize import word_tokenize, sent_tokenize"
   ]
  },
  {
   "cell_type": "code",
   "execution_count": 39,
   "metadata": {
    "collapsed": true
   },
   "outputs": [],
   "source": [
    "text = \"Mary had a little lamb. Her fleece was white as snow\""
   ]
  },
  {
   "cell_type": "code",
   "execution_count": 40,
   "metadata": {},
   "outputs": [
    {
     "name": "stdout",
     "output_type": "stream",
     "text": [
      "['Mary had a little lamb.', 'Her fleece was white as snow']\n"
     ]
    }
   ],
   "source": [
    "sents = sent_tokenize(text)\n",
    "print(sents)"
   ]
  },
  {
   "cell_type": "code",
   "execution_count": 41,
   "metadata": {},
   "outputs": [
    {
     "name": "stdout",
     "output_type": "stream",
     "text": [
      "[['Mary', 'had', 'a', 'little', 'lamb', '.'], ['Her', 'fleece', 'was', 'white', 'as', 'snow']]\n"
     ]
    }
   ],
   "source": [
    "words = [word_tokenize(sent) for sent in sents]\n",
    "print(words)"
   ]
  },
  {
   "cell_type": "code",
   "execution_count": 42,
   "metadata": {},
   "outputs": [],
   "source": [
    "# removing stop words\n",
    "from nltk.corpus import stopwords\n",
    "from string import punctuation\n",
    "customStopWords = set(stopwords.words('english')+list(punctuation))"
   ]
  },
  {
   "cell_type": "code",
   "execution_count": 43,
   "metadata": {},
   "outputs": [],
   "source": [
    "wordsWOStopWords = [word for word in word_tokenize(text) if word not in customStopWords]"
   ]
  },
  {
   "cell_type": "code",
   "execution_count": 44,
   "metadata": {},
   "outputs": [
    {
     "name": "stdout",
     "output_type": "stream",
     "text": [
      "['Mary', 'little', 'lamb', 'Her', 'fleece', 'white', 'snow']\n"
     ]
    }
   ],
   "source": [
    "print(wordsWOStopWords)"
   ]
  },
  {
   "cell_type": "code",
   "execution_count": 45,
   "metadata": {},
   "outputs": [
    {
     "data": {
      "text/plain": [
       "dict_items([(('Mary', 'little'), 1), (('little', 'lamb'), 1), (('lamb', 'Her'), 1), (('Her', 'fleece'), 1), (('fleece', 'white'), 1), (('white', 'snow'), 1)])"
      ]
     },
     "execution_count": 45,
     "metadata": {},
     "output_type": "execute_result"
    }
   ],
   "source": [
    "#constructing n-grams (words that cooccur)\n",
    "from nltk.collocations import *\n",
    "bigram_measures = nltk.collocations.BigramAssocMeasures()\n",
    "finder = BigramCollocationFinder.from_words(wordsWOStopWords)\n",
    "finder.ngram_fd.items()\n",
    "# sorted(finder.ngram_fd.items()) prints most important bigrams on top"
   ]
  },
  {
   "cell_type": "code",
   "execution_count": 46,
   "metadata": {
    "collapsed": true
   },
   "outputs": [],
   "source": [
    "text2 = \"Mary closed on closing night when she was in the mood to close.\""
   ]
  },
  {
   "cell_type": "code",
   "execution_count": 47,
   "metadata": {
    "collapsed": true
   },
   "outputs": [],
   "source": [
    "# stemming -> to treat closed, closing, and close as same word\n",
    "from nltk.stem.lancaster import LancasterStemmer\n",
    "st = LancasterStemmer()\n",
    "stemmedWords = [st.stem(word) for word in word_tokenize(text2)]"
   ]
  },
  {
   "cell_type": "code",
   "execution_count": 48,
   "metadata": {},
   "outputs": [
    {
     "name": "stdout",
     "output_type": "stream",
     "text": [
      "['mary', 'clos', 'on', 'clos', 'night', 'when', 'she', 'was', 'in', 'the', 'mood', 'to', 'clos', '.']\n"
     ]
    }
   ],
   "source": [
    "print(stemmedWords)"
   ]
  },
  {
   "cell_type": "code",
   "execution_count": 49,
   "metadata": {},
   "outputs": [
    {
     "data": {
      "text/plain": [
       "[('Mary', 'NNP'),\n",
       " ('closed', 'VBD'),\n",
       " ('on', 'IN'),\n",
       " ('closing', 'NN'),\n",
       " ('night', 'NN'),\n",
       " ('when', 'WRB'),\n",
       " ('she', 'PRP'),\n",
       " ('was', 'VBD'),\n",
       " ('in', 'IN'),\n",
       " ('the', 'DT'),\n",
       " ('mood', 'NN'),\n",
       " ('to', 'TO'),\n",
       " ('close', 'VB'),\n",
       " ('.', '.')]"
      ]
     },
     "execution_count": 49,
     "metadata": {},
     "output_type": "execute_result"
    }
   ],
   "source": [
    "nltk.pos_tag(word_tokenize(text2))"
   ]
  },
  {
   "cell_type": "code",
   "execution_count": 50,
   "metadata": {},
   "outputs": [
    {
     "name": "stdout",
     "output_type": "stream",
     "text": [
      "Synset('state.n.01') the territory occupied by one of the constituent administrative districts of a nation\n",
      "Synset('state.n.02') the way something is with respect to its main attributes\n",
      "Synset('state.n.03') the group of people comprising the government of a sovereign state\n",
      "Synset('state.n.04') a politically organized body of people under a single government\n",
      "Synset('state_of_matter.n.01') (chemistry) the three traditional states of matter are solids (fixed shape and volume) and liquids (fixed volume and shaped by the container) and gases (filling the container)\n",
      "Synset('state.n.06') a state of depression or agitation\n",
      "Synset('country.n.02') the territory occupied by a nation\n",
      "Synset('department_of_state.n.01') the federal department in the United States that sets and maintains foreign policies\n",
      "Synset('state.v.01') express in words\n",
      "Synset('submit.v.02') put before\n",
      "Synset('express.v.04') indicate through a symbol, formula, etc.\n"
     ]
    }
   ],
   "source": [
    "from nltk.corpus import wordnet as wn\n",
    "for ss in wn.synsets('state'):\n",
    "    print(ss, ss.definition())"
   ]
  },
  {
   "cell_type": "code",
   "execution_count": 51,
   "metadata": {},
   "outputs": [
    {
     "name": "stdout",
     "output_type": "stream",
     "text": [
      "Synset('state.n.03') the group of people comprising the government of a sovereign state\n"
     ]
    }
   ],
   "source": [
    "from nltk.wsd import lesk\n",
    "sense1 = lesk(word_tokenize(\"water is in the liquid state\"), \"state\")\n",
    "print(sense1, sense1.definition())"
   ]
  },
  {
   "cell_type": "code",
   "execution_count": 95,
   "metadata": {},
   "outputs": [],
   "source": [
    "# auto summarizing text\n",
    "from urllib.request import urlopen\n",
    "from bs4 import BeautifulSoup as soup"
   ]
  },
  {
   "cell_type": "code",
   "execution_count": 96,
   "metadata": {
    "collapsed": true
   },
   "outputs": [],
   "source": [
    "articleURL = 'https://www.washingtonpost.com/news/politics/wp/2018/07/12/in-about-20-years-half-the-population-will-live-in-eight-states/?utm_term=.04fd3b97c350'"
   ]
  },
  {
   "cell_type": "code",
   "execution_count": 153,
   "metadata": {},
   "outputs": [],
   "source": [
    "def getArticle(url):\n",
    "    page = urlopen(url).read().decode('utf-8', 'ignore').strip()\n",
    "    article = soup(page, 'lxml')\n",
    "    #articleText = ' '.join(map(lambda p: p.text, article.findAll('article')))\n",
    "    articleText.find('article')\n",
    "    cleanArticle = articleText.replace('\\xa0—', '')#.encode('ascii', errors='replace').replace(\"?\", \" \")\n",
    "    return cleanArticle"
   ]
  },
  {
   "cell_type": "code",
   "execution_count": 154,
   "metadata": {},
   "outputs": [],
   "source": [
    "politicalDemographics = getArticle(articleURL)"
   ]
  },
  {
   "cell_type": "code",
   "execution_count": 155,
   "metadata": {},
   "outputs": [
    {
     "data": {
      "text/plain": [
       "'    The Top of the Rock at Rockefeller Center in New York on March 16, 2016. (Justin Lane/EPA)  In response to Post opinion writer Paul Waldman’s essay about the current power of the minority in American politics, the American Enterprise Institute’s Norman Ornstein offered a stunning bit of data on Twitter.   I want to repeat a statistic I use in every talk: by 2040 or so, 70 percent of Americans will live in 15 states. Meaning 30 percent will choose 70 senators. And the 30% will be older, whiter, more rural, more male than the 70 percent. Unsettling to say the least https://t.co/EGPD5nE4qG— Norman Ornstein (@NormOrnstein) July 10, 2018    In broad strokes, Ornstein is correct. The Weldon Cooper Center for Public Service of the University of Virginia analyzed Census Bureau population projections to estimate each state’s likely population in 2040, including the expected breakdown of the population by age and gender. Although that data was released in 2016, before the bureau revised its estimates for the coming decades, we see that, in fact, the population will be heavily centered in a few states. Eight states will have just under half of the total population of the country, 49.5 percent, according to the Weldon Cooper Center’s estimate. The next eight most populous states will account for an additional fifth of the population, up to 69.2 percent — meaning that the 16 most populous states will be home to about 70 percent of Americans.     Geographically, most of those 16 states will be on or near the East Coast. Only three — Arizona, Texas and Colorado will be west of the Mississippi and not on the West Coast.     Ornstein’s (and Waldman’s) point is clear: 30 percent of the population of the country will control 68 percent of the seats in the U.S. Senate. Or, more starkly, half the population of the country will control 84 percent of those seats. His tweet goes further, suggesting that the demographics of those states will differ from the larger states, as well, and, therefore, so will their politics. It’s self-evident that the 34 smaller states will be more rural than the 16 largest; a key part of the reason those states will be so much more populous is the centralization of Americans in cities. It’s true, too, that this movement to cities has reinforced partisan divisions in a process called the Big Sort. The Weldon Cooper data, though, is less stark on the age differential. Eleven of the 16 most-populous states will have over-65 populations that are below the median density nationally. Twenty-two of the 34 less-populous states will have over-65 populations that are over the median density.     In the current political context, older voters means more Republican voters. By 2040, though, those 65-year-olds will be Generation X, a generation that currently skews more Democratic than the two generations that preceded it, according to a March study from the Pew Research Center. By 2046, even some millennials — a group that is much more Democratic-leaning — will be at retirement age (!!!).     With an important exception, to Ornstein’s point: White male millennials are the only demographic group within that generational bracket to lean more heavily to the Republicans.     So the partisan ramifications of the uneven distribution of the country’s population aren’t clear. But the possible anti-democratic effects of the lopsided Senate are. The gray states on the map below — states that make up more than two-thirds of the land area of the United States will similarly control enough of the Senate to overcome any filibuster.     The House and the Senate will be weighted to two largely different Americas. '"
      ]
     },
     "execution_count": 155,
     "metadata": {},
     "output_type": "execute_result"
    }
   ],
   "source": [
    "type(politicalDemographics)\n",
    "politicalDemographics"
   ]
  },
  {
   "cell_type": "code",
   "execution_count": 158,
   "metadata": {},
   "outputs": [
    {
     "data": {
      "text/plain": [
       "['    The Top of the Rock at Rockefeller Center in New York on March 16, 2016.',\n",
       " '(Justin Lane/EPA)  In response to Post opinion writer Paul Waldman’s essay about the current power of the minority in American politics, the American Enterprise Institute’s Norman Ornstein offered a stunning bit of data on Twitter.',\n",
       " 'I want to repeat a statistic I use in every talk: by 2040 or so, 70 percent of Americans will live in 15 states.',\n",
       " 'Meaning 30 percent will choose 70 senators.',\n",
       " 'And the 30% will be older, whiter, more rural, more male than the 70 percent.',\n",
       " 'Unsettling to say the least https://t.co/EGPD5nE4qG— Norman Ornstein (@NormOrnstein) July 10, 2018    In broad strokes, Ornstein is correct.',\n",
       " 'The Weldon Cooper Center for Public Service of the University of Virginia analyzed Census Bureau population projections to estimate each state’s likely population in 2040, including the expected breakdown of the population by age and gender.',\n",
       " 'Although that data was released in 2016, before the bureau revised its estimates for the coming decades, we see that, in fact, the population will be heavily centered in a few states.',\n",
       " 'Eight states will have just under half of the total population of the country, 49.5 percent, according to the Weldon Cooper Center’s estimate.',\n",
       " 'The next eight most populous states will account for an additional fifth of the population, up to 69.2 percent — meaning that the 16 most populous states will be home to about 70 percent of Americans.',\n",
       " 'Geographically, most of those 16 states will be on or near the East Coast.',\n",
       " 'Only three — Arizona, Texas and Colorado will be west of the Mississippi and not on the West Coast.',\n",
       " 'Ornstein’s (and Waldman’s) point is clear: 30 percent of the population of the country will control 68 percent of the seats in the U.S. Senate.',\n",
       " 'Or, more starkly, half the population of the country will control 84 percent of those seats.',\n",
       " 'His tweet goes further, suggesting that the demographics of those states will differ from the larger states, as well, and, therefore, so will their politics.',\n",
       " 'It’s self-evident that the 34 smaller states will be more rural than the 16 largest; a key part of the reason those states will be so much more populous is the centralization of Americans in cities.',\n",
       " 'It’s true, too, that this movement to cities has reinforced partisan divisions in a process called the Big Sort.',\n",
       " 'The Weldon Cooper data, though, is less stark on the age differential.',\n",
       " 'Eleven of the 16 most-populous states will have over-65 populations that are below the median density nationally.',\n",
       " 'Twenty-two of the 34 less-populous states will have over-65 populations that are over the median density.',\n",
       " 'In the current political context, older voters means more Republican voters.',\n",
       " 'By 2040, though, those 65-year-olds will be Generation X, a generation that currently skews more Democratic than the two generations that preceded it, according to a March study from the Pew Research Center.',\n",
       " 'By 2046, even some millennials — a group that is much more Democratic-leaning — will be at retirement age (!!!).',\n",
       " 'With an important exception, to Ornstein’s point: White male millennials are the only demographic group within that generational bracket to lean more heavily to the Republicans.',\n",
       " 'So the partisan ramifications of the uneven distribution of the country’s population aren’t clear.',\n",
       " 'But the possible anti-democratic effects of the lopsided Senate are.',\n",
       " 'The gray states on the map below — states that make up more than two-thirds of the land area of the United States will similarly control enough of the Senate to overcome any filibuster.',\n",
       " 'The House and the Senate will be weighted to two largely different Americas.']"
      ]
     },
     "execution_count": 158,
     "metadata": {},
     "output_type": "execute_result"
    }
   ],
   "source": [
    "sentences = sent_tokenize(politicalDemographics)\n",
    "sentences"
   ]
  },
  {
   "cell_type": "code",
   "execution_count": 160,
   "metadata": {},
   "outputs": [
    {
     "data": {
      "text/plain": [
       "['the',\n",
       " 'top',\n",
       " 'of',\n",
       " 'the',\n",
       " 'rock',\n",
       " 'at',\n",
       " 'rockefeller',\n",
       " 'center',\n",
       " 'in',\n",
       " 'new',\n",
       " 'york',\n",
       " 'on',\n",
       " 'march',\n",
       " '16',\n",
       " ',',\n",
       " '2016',\n",
       " '.',\n",
       " '(',\n",
       " 'justin',\n",
       " 'lane/epa',\n",
       " ')',\n",
       " 'in',\n",
       " 'response',\n",
       " 'to',\n",
       " 'post',\n",
       " 'opinion',\n",
       " 'writer',\n",
       " 'paul',\n",
       " 'waldman',\n",
       " '’',\n",
       " 's',\n",
       " 'essay',\n",
       " 'about',\n",
       " 'the',\n",
       " 'current',\n",
       " 'power',\n",
       " 'of',\n",
       " 'the',\n",
       " 'minority',\n",
       " 'in',\n",
       " 'american',\n",
       " 'politics',\n",
       " ',',\n",
       " 'the',\n",
       " 'american',\n",
       " 'enterprise',\n",
       " 'institute',\n",
       " '’',\n",
       " 's',\n",
       " 'norman',\n",
       " 'ornstein',\n",
       " 'offered',\n",
       " 'a',\n",
       " 'stunning',\n",
       " 'bit',\n",
       " 'of',\n",
       " 'data',\n",
       " 'on',\n",
       " 'twitter',\n",
       " '.',\n",
       " 'i',\n",
       " 'want',\n",
       " 'to',\n",
       " 'repeat',\n",
       " 'a',\n",
       " 'statistic',\n",
       " 'i',\n",
       " 'use',\n",
       " 'in',\n",
       " 'every',\n",
       " 'talk',\n",
       " ':',\n",
       " 'by',\n",
       " '2040',\n",
       " 'or',\n",
       " 'so',\n",
       " ',',\n",
       " '70',\n",
       " 'percent',\n",
       " 'of',\n",
       " 'americans',\n",
       " 'will',\n",
       " 'live',\n",
       " 'in',\n",
       " '15',\n",
       " 'states',\n",
       " '.',\n",
       " 'meaning',\n",
       " '30',\n",
       " 'percent',\n",
       " 'will',\n",
       " 'choose',\n",
       " '70',\n",
       " 'senators',\n",
       " '.',\n",
       " 'and',\n",
       " 'the',\n",
       " '30',\n",
       " '%',\n",
       " 'will',\n",
       " 'be',\n",
       " 'older',\n",
       " ',',\n",
       " 'whiter',\n",
       " ',',\n",
       " 'more',\n",
       " 'rural',\n",
       " ',',\n",
       " 'more',\n",
       " 'male',\n",
       " 'than',\n",
       " 'the',\n",
       " '70',\n",
       " 'percent',\n",
       " '.',\n",
       " 'unsettling',\n",
       " 'to',\n",
       " 'say',\n",
       " 'the',\n",
       " 'least',\n",
       " 'https',\n",
       " ':',\n",
       " '//t.co/egpd5ne4qg—',\n",
       " 'norman',\n",
       " 'ornstein',\n",
       " '(',\n",
       " '@',\n",
       " 'normornstein',\n",
       " ')',\n",
       " 'july',\n",
       " '10',\n",
       " ',',\n",
       " '2018',\n",
       " 'in',\n",
       " 'broad',\n",
       " 'strokes',\n",
       " ',',\n",
       " 'ornstein',\n",
       " 'is',\n",
       " 'correct',\n",
       " '.',\n",
       " 'the',\n",
       " 'weldon',\n",
       " 'cooper',\n",
       " 'center',\n",
       " 'for',\n",
       " 'public',\n",
       " 'service',\n",
       " 'of',\n",
       " 'the',\n",
       " 'university',\n",
       " 'of',\n",
       " 'virginia',\n",
       " 'analyzed',\n",
       " 'census',\n",
       " 'bureau',\n",
       " 'population',\n",
       " 'projections',\n",
       " 'to',\n",
       " 'estimate',\n",
       " 'each',\n",
       " 'state',\n",
       " '’',\n",
       " 's',\n",
       " 'likely',\n",
       " 'population',\n",
       " 'in',\n",
       " '2040',\n",
       " ',',\n",
       " 'including',\n",
       " 'the',\n",
       " 'expected',\n",
       " 'breakdown',\n",
       " 'of',\n",
       " 'the',\n",
       " 'population',\n",
       " 'by',\n",
       " 'age',\n",
       " 'and',\n",
       " 'gender',\n",
       " '.',\n",
       " 'although',\n",
       " 'that',\n",
       " 'data',\n",
       " 'was',\n",
       " 'released',\n",
       " 'in',\n",
       " '2016',\n",
       " ',',\n",
       " 'before',\n",
       " 'the',\n",
       " 'bureau',\n",
       " 'revised',\n",
       " 'its',\n",
       " 'estimates',\n",
       " 'for',\n",
       " 'the',\n",
       " 'coming',\n",
       " 'decades',\n",
       " ',',\n",
       " 'we',\n",
       " 'see',\n",
       " 'that',\n",
       " ',',\n",
       " 'in',\n",
       " 'fact',\n",
       " ',',\n",
       " 'the',\n",
       " 'population',\n",
       " 'will',\n",
       " 'be',\n",
       " 'heavily',\n",
       " 'centered',\n",
       " 'in',\n",
       " 'a',\n",
       " 'few',\n",
       " 'states',\n",
       " '.',\n",
       " 'eight',\n",
       " 'states',\n",
       " 'will',\n",
       " 'have',\n",
       " 'just',\n",
       " 'under',\n",
       " 'half',\n",
       " 'of',\n",
       " 'the',\n",
       " 'total',\n",
       " 'population',\n",
       " 'of',\n",
       " 'the',\n",
       " 'country',\n",
       " ',',\n",
       " '49.5',\n",
       " 'percent',\n",
       " ',',\n",
       " 'according',\n",
       " 'to',\n",
       " 'the',\n",
       " 'weldon',\n",
       " 'cooper',\n",
       " 'center',\n",
       " '’',\n",
       " 's',\n",
       " 'estimate',\n",
       " '.',\n",
       " 'the',\n",
       " 'next',\n",
       " 'eight',\n",
       " 'most',\n",
       " 'populous',\n",
       " 'states',\n",
       " 'will',\n",
       " 'account',\n",
       " 'for',\n",
       " 'an',\n",
       " 'additional',\n",
       " 'fifth',\n",
       " 'of',\n",
       " 'the',\n",
       " 'population',\n",
       " ',',\n",
       " 'up',\n",
       " 'to',\n",
       " '69.2',\n",
       " 'percent',\n",
       " '—',\n",
       " 'meaning',\n",
       " 'that',\n",
       " 'the',\n",
       " '16',\n",
       " 'most',\n",
       " 'populous',\n",
       " 'states',\n",
       " 'will',\n",
       " 'be',\n",
       " 'home',\n",
       " 'to',\n",
       " 'about',\n",
       " '70',\n",
       " 'percent',\n",
       " 'of',\n",
       " 'americans',\n",
       " '.',\n",
       " 'geographically',\n",
       " ',',\n",
       " 'most',\n",
       " 'of',\n",
       " 'those',\n",
       " '16',\n",
       " 'states',\n",
       " 'will',\n",
       " 'be',\n",
       " 'on',\n",
       " 'or',\n",
       " 'near',\n",
       " 'the',\n",
       " 'east',\n",
       " 'coast',\n",
       " '.',\n",
       " 'only',\n",
       " 'three',\n",
       " '—',\n",
       " 'arizona',\n",
       " ',',\n",
       " 'texas',\n",
       " 'and',\n",
       " 'colorado',\n",
       " 'will',\n",
       " 'be',\n",
       " 'west',\n",
       " 'of',\n",
       " 'the',\n",
       " 'mississippi',\n",
       " 'and',\n",
       " 'not',\n",
       " 'on',\n",
       " 'the',\n",
       " 'west',\n",
       " 'coast',\n",
       " '.',\n",
       " 'ornstein',\n",
       " '’',\n",
       " 's',\n",
       " '(',\n",
       " 'and',\n",
       " 'waldman',\n",
       " '’',\n",
       " 's',\n",
       " ')',\n",
       " 'point',\n",
       " 'is',\n",
       " 'clear',\n",
       " ':',\n",
       " '30',\n",
       " 'percent',\n",
       " 'of',\n",
       " 'the',\n",
       " 'population',\n",
       " 'of',\n",
       " 'the',\n",
       " 'country',\n",
       " 'will',\n",
       " 'control',\n",
       " '68',\n",
       " 'percent',\n",
       " 'of',\n",
       " 'the',\n",
       " 'seats',\n",
       " 'in',\n",
       " 'the',\n",
       " 'u.s.',\n",
       " 'senate',\n",
       " '.',\n",
       " 'or',\n",
       " ',',\n",
       " 'more',\n",
       " 'starkly',\n",
       " ',',\n",
       " 'half',\n",
       " 'the',\n",
       " 'population',\n",
       " 'of',\n",
       " 'the',\n",
       " 'country',\n",
       " 'will',\n",
       " 'control',\n",
       " '84',\n",
       " 'percent',\n",
       " 'of',\n",
       " 'those',\n",
       " 'seats',\n",
       " '.',\n",
       " 'his',\n",
       " 'tweet',\n",
       " 'goes',\n",
       " 'further',\n",
       " ',',\n",
       " 'suggesting',\n",
       " 'that',\n",
       " 'the',\n",
       " 'demographics',\n",
       " 'of',\n",
       " 'those',\n",
       " 'states',\n",
       " 'will',\n",
       " 'differ',\n",
       " 'from',\n",
       " 'the',\n",
       " 'larger',\n",
       " 'states',\n",
       " ',',\n",
       " 'as',\n",
       " 'well',\n",
       " ',',\n",
       " 'and',\n",
       " ',',\n",
       " 'therefore',\n",
       " ',',\n",
       " 'so',\n",
       " 'will',\n",
       " 'their',\n",
       " 'politics',\n",
       " '.',\n",
       " 'it',\n",
       " '’',\n",
       " 's',\n",
       " 'self-evident',\n",
       " 'that',\n",
       " 'the',\n",
       " '34',\n",
       " 'smaller',\n",
       " 'states',\n",
       " 'will',\n",
       " 'be',\n",
       " 'more',\n",
       " 'rural',\n",
       " 'than',\n",
       " 'the',\n",
       " '16',\n",
       " 'largest',\n",
       " ';',\n",
       " 'a',\n",
       " 'key',\n",
       " 'part',\n",
       " 'of',\n",
       " 'the',\n",
       " 'reason',\n",
       " 'those',\n",
       " 'states',\n",
       " 'will',\n",
       " 'be',\n",
       " 'so',\n",
       " 'much',\n",
       " 'more',\n",
       " 'populous',\n",
       " 'is',\n",
       " 'the',\n",
       " 'centralization',\n",
       " 'of',\n",
       " 'americans',\n",
       " 'in',\n",
       " 'cities',\n",
       " '.',\n",
       " 'it',\n",
       " '’',\n",
       " 's',\n",
       " 'true',\n",
       " ',',\n",
       " 'too',\n",
       " ',',\n",
       " 'that',\n",
       " 'this',\n",
       " 'movement',\n",
       " 'to',\n",
       " 'cities',\n",
       " 'has',\n",
       " 'reinforced',\n",
       " 'partisan',\n",
       " 'divisions',\n",
       " 'in',\n",
       " 'a',\n",
       " 'process',\n",
       " 'called',\n",
       " 'the',\n",
       " 'big',\n",
       " 'sort',\n",
       " '.',\n",
       " 'the',\n",
       " 'weldon',\n",
       " 'cooper',\n",
       " 'data',\n",
       " ',',\n",
       " 'though',\n",
       " ',',\n",
       " 'is',\n",
       " 'less',\n",
       " 'stark',\n",
       " 'on',\n",
       " 'the',\n",
       " 'age',\n",
       " 'differential',\n",
       " '.',\n",
       " 'eleven',\n",
       " 'of',\n",
       " 'the',\n",
       " '16',\n",
       " 'most-populous',\n",
       " 'states',\n",
       " 'will',\n",
       " 'have',\n",
       " 'over-65',\n",
       " 'populations',\n",
       " 'that',\n",
       " 'are',\n",
       " 'below',\n",
       " 'the',\n",
       " 'median',\n",
       " 'density',\n",
       " 'nationally',\n",
       " '.',\n",
       " 'twenty-two',\n",
       " 'of',\n",
       " 'the',\n",
       " '34',\n",
       " 'less-populous',\n",
       " 'states',\n",
       " 'will',\n",
       " 'have',\n",
       " 'over-65',\n",
       " 'populations',\n",
       " 'that',\n",
       " 'are',\n",
       " 'over',\n",
       " 'the',\n",
       " 'median',\n",
       " 'density',\n",
       " '.',\n",
       " 'in',\n",
       " 'the',\n",
       " 'current',\n",
       " 'political',\n",
       " 'context',\n",
       " ',',\n",
       " 'older',\n",
       " 'voters',\n",
       " 'means',\n",
       " 'more',\n",
       " 'republican',\n",
       " 'voters',\n",
       " '.',\n",
       " 'by',\n",
       " '2040',\n",
       " ',',\n",
       " 'though',\n",
       " ',',\n",
       " 'those',\n",
       " '65-year-olds',\n",
       " 'will',\n",
       " 'be',\n",
       " 'generation',\n",
       " 'x',\n",
       " ',',\n",
       " 'a',\n",
       " 'generation',\n",
       " 'that',\n",
       " 'currently',\n",
       " 'skews',\n",
       " 'more',\n",
       " 'democratic',\n",
       " 'than',\n",
       " 'the',\n",
       " 'two',\n",
       " 'generations',\n",
       " 'that',\n",
       " 'preceded',\n",
       " 'it',\n",
       " ',',\n",
       " 'according',\n",
       " 'to',\n",
       " 'a',\n",
       " 'march',\n",
       " 'study',\n",
       " 'from',\n",
       " 'the',\n",
       " 'pew',\n",
       " 'research',\n",
       " 'center',\n",
       " '.',\n",
       " 'by',\n",
       " '2046',\n",
       " ',',\n",
       " 'even',\n",
       " 'some',\n",
       " 'millennials',\n",
       " '—',\n",
       " 'a',\n",
       " 'group',\n",
       " 'that',\n",
       " 'is',\n",
       " 'much',\n",
       " 'more',\n",
       " 'democratic-leaning',\n",
       " '—',\n",
       " 'will',\n",
       " 'be',\n",
       " 'at',\n",
       " 'retirement',\n",
       " 'age',\n",
       " '(',\n",
       " '!',\n",
       " '!',\n",
       " '!',\n",
       " ')',\n",
       " '.',\n",
       " 'with',\n",
       " 'an',\n",
       " 'important',\n",
       " 'exception',\n",
       " ',',\n",
       " 'to',\n",
       " 'ornstein',\n",
       " '’',\n",
       " 's',\n",
       " 'point',\n",
       " ':',\n",
       " 'white',\n",
       " 'male',\n",
       " 'millennials',\n",
       " 'are',\n",
       " 'the',\n",
       " 'only',\n",
       " 'demographic',\n",
       " 'group',\n",
       " 'within',\n",
       " 'that',\n",
       " 'generational',\n",
       " 'bracket',\n",
       " 'to',\n",
       " 'lean',\n",
       " 'more',\n",
       " 'heavily',\n",
       " 'to',\n",
       " 'the',\n",
       " 'republicans',\n",
       " '.',\n",
       " 'so',\n",
       " 'the',\n",
       " 'partisan',\n",
       " 'ramifications',\n",
       " 'of',\n",
       " 'the',\n",
       " 'uneven',\n",
       " 'distribution',\n",
       " 'of',\n",
       " 'the',\n",
       " 'country',\n",
       " '’',\n",
       " 's',\n",
       " 'population',\n",
       " 'aren',\n",
       " '’',\n",
       " 't',\n",
       " 'clear',\n",
       " '.',\n",
       " 'but',\n",
       " 'the',\n",
       " 'possible',\n",
       " 'anti-democratic',\n",
       " 'effects',\n",
       " 'of',\n",
       " 'the',\n",
       " 'lopsided',\n",
       " 'senate',\n",
       " 'are',\n",
       " '.',\n",
       " 'the',\n",
       " 'gray',\n",
       " 'states',\n",
       " 'on',\n",
       " 'the',\n",
       " 'map',\n",
       " 'below',\n",
       " '—',\n",
       " 'states',\n",
       " 'that',\n",
       " 'make',\n",
       " 'up',\n",
       " 'more',\n",
       " 'than',\n",
       " 'two-thirds',\n",
       " 'of',\n",
       " 'the',\n",
       " 'land',\n",
       " 'area',\n",
       " 'of',\n",
       " 'the',\n",
       " 'united',\n",
       " 'states',\n",
       " 'will',\n",
       " 'similarly',\n",
       " 'control',\n",
       " 'enough',\n",
       " 'of',\n",
       " 'the',\n",
       " 'senate',\n",
       " 'to',\n",
       " 'overcome',\n",
       " 'any',\n",
       " 'filibuster',\n",
       " '.',\n",
       " 'the',\n",
       " 'house',\n",
       " 'and',\n",
       " 'the',\n",
       " 'senate',\n",
       " 'will',\n",
       " 'be',\n",
       " 'weighted',\n",
       " 'to',\n",
       " 'two',\n",
       " 'largely',\n",
       " 'different',\n",
       " 'americas',\n",
       " '.']"
      ]
     },
     "execution_count": 160,
     "metadata": {},
     "output_type": "execute_result"
    }
   ],
   "source": [
    "words = word_tokenize(politicalDemographics.lower())\n",
    "words"
   ]
  },
  {
   "cell_type": "code",
   "execution_count": 162,
   "metadata": {
    "collapsed": true
   },
   "outputs": [],
   "source": [
    "word_sent = [word for word in words if word not in customStopWords]"
   ]
  },
  {
   "cell_type": "code",
   "execution_count": 165,
   "metadata": {},
   "outputs": [],
   "source": [
    "from nltk.probability import FreqDist"
   ]
  },
  {
   "cell_type": "code",
   "execution_count": 180,
   "metadata": {},
   "outputs": [],
   "source": [
    "freq = FreqDist(word_sent)"
   ]
  },
  {
   "cell_type": "code",
   "execution_count": 168,
   "metadata": {
    "collapsed": true
   },
   "outputs": [],
   "source": [
    "from heapq import nlargest"
   ]
  },
  {
   "cell_type": "code",
   "execution_count": 174,
   "metadata": {},
   "outputs": [
    {
     "data": {
      "text/plain": [
       "['states',\n",
       " '’',\n",
       " 'percent',\n",
       " 'population',\n",
       " '16',\n",
       " 'ornstein',\n",
       " '—',\n",
       " 'center',\n",
       " '70',\n",
       " 'country',\n",
       " 'senate',\n",
       " 'data',\n",
       " '2040',\n",
       " 'americans',\n",
       " '30']"
      ]
     },
     "execution_count": 174,
     "metadata": {},
     "output_type": "execute_result"
    }
   ],
   "source": [
    "nlargest(15, freq, key=freq.get)"
   ]
  },
  {
   "cell_type": "code",
   "execution_count": 170,
   "metadata": {
    "collapsed": true
   },
   "outputs": [],
   "source": [
    "from collections import defaultdict"
   ]
  },
  {
   "cell_type": "code",
   "execution_count": 171,
   "metadata": {
    "collapsed": true
   },
   "outputs": [],
   "source": [
    "ranking = defaultdict(int)\n"
   ]
  },
  {
   "cell_type": "code",
   "execution_count": 172,
   "metadata": {
    "collapsed": true
   },
   "outputs": [],
   "source": [
    "for i,sent in enumerate(sentences):\n",
    "    for w in word_tokenize(sent.lower()):\n",
    "        if w in freq:\n",
    "            ranking[i] += freq[w]"
   ]
  },
  {
   "cell_type": "code",
   "execution_count": 178,
   "metadata": {},
   "outputs": [
    {
     "data": {
      "text/plain": [
       "[9, 12, 6, 8]"
      ]
     },
     "execution_count": 178,
     "metadata": {},
     "output_type": "execute_result"
    }
   ],
   "source": [
    "sentence_rank = nlargest(4, ranking, key=ranking.get)\n",
    "sentence_rank"
   ]
  },
  {
   "cell_type": "code",
   "execution_count": 179,
   "metadata": {},
   "outputs": [
    {
     "data": {
      "text/plain": [
       "['The Weldon Cooper Center for Public Service of the University of Virginia analyzed Census Bureau population projections to estimate each state’s likely population in 2040, including the expected breakdown of the population by age and gender.',\n",
       " 'Eight states will have just under half of the total population of the country, 49.5 percent, according to the Weldon Cooper Center’s estimate.',\n",
       " 'The next eight most populous states will account for an additional fifth of the population, up to 69.2 percent — meaning that the 16 most populous states will be home to about 70 percent of Americans.',\n",
       " 'Ornstein’s (and Waldman’s) point is clear: 30 percent of the population of the country will control 68 percent of the seats in the U.S. Senate.']"
      ]
     },
     "execution_count": 179,
     "metadata": {},
     "output_type": "execute_result"
    }
   ],
   "source": [
    "[sentences[sent] for sent in sorted(sentence_rank)]"
   ]
  }
 ],
 "metadata": {
  "kernelspec": {
   "display_name": "Python 3",
   "language": "python",
   "name": "python3"
  },
  "language_info": {
   "codemirror_mode": {
    "name": "ipython",
    "version": 3
   },
   "file_extension": ".py",
   "mimetype": "text/x-python",
   "name": "python",
   "nbconvert_exporter": "python",
   "pygments_lexer": "ipython3",
   "version": "3.6.1"
  }
 },
 "nbformat": 4,
 "nbformat_minor": 2
}
